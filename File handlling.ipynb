{
 "cells": [
  {
   "cell_type": "markdown",
   "id": "9313494e",
   "metadata": {},
   "source": [
    "I will demonstrate my file handling skills in this little project. The large fille \"example.bed\" contains genomic regions (chromosome, start and end position seperated by tabs). This code will do the following;\n",
    "1) Remove the \"Chr\" in front of the number which is removed --> example: Chr1 will be 1\n",
    "2) Determine the number of regions covered in each chromosome. Each line is a region --> example: Chromosone 1 has 71906 lines, thus 71906 regions. \n",
    "3) Parse and print to screen the total size of the regions covered for each chromosome\n",
    "4) Combine number of regions and size per chromosome in a report \n"
   ]
  },
  {
   "cell_type": "code",
   "execution_count": 3,
   "id": "215f8feb",
   "metadata": {},
   "outputs": [
    {
     "name": "stdout",
     "output_type": "stream",
     "text": [
      "File opened\n"
     ]
    }
   ],
   "source": [
    "#  (1) Removing \"Chr\"\n",
    "import sys \n",
    "try:\n",
    "    bed_file = open(\"example.bed\",\"r\")\n",
    "    print('File opened')\n",
    "except:\n",
    "    sys.exit(\"File does not exist! Check whether you have correctly stored the file.\")\n",
    "    \n",
    "out_file = open(\"example_nochr.bed\",\"w\")\n",
    "for line in bed_file:\n",
    "    if line[0:3]==\"chr\":\n",
    "        line=line[3:]  #remove first 3 characters from the line\n",
    "    out_file.write(line)\n",
    "out_file.close()\n",
    "bed_file.close()"
   ]
  },
  {
   "cell_type": "code",
   "execution_count": 4,
   "id": "e6a5bf22",
   "metadata": {},
   "outputs": [
    {
     "name": "stdout",
     "output_type": "stream",
     "text": [
      "1 71906\n",
      "10 39957\n",
      "11 40677\n",
      "12 44469\n",
      "13 23109\n",
      "14 27399\n",
      "15 23975\n",
      "16 23597\n",
      "17 32679\n",
      "18 18883\n",
      "19 19482\n",
      "2 65512\n",
      "20 21129\n",
      "21 6894\n",
      "22 12363\n",
      "3 55881\n",
      "4 44452\n",
      "5 42642\n",
      "6 47934\n",
      "7 49400\n",
      "8 34334\n",
      "9 29893\n",
      "MT 4\n",
      "X 29180\n",
      "Y 56\n"
     ]
    }
   ],
   "source": [
    "# (2) Number of regions\n",
    "\n",
    "bed_file = open(\"example_nochr.bed\",\"r\")         \n",
    "dict = {}\n",
    "\n",
    "for line in bed_file:\n",
    "    data = line.split(\"\\t\")\n",
    "    chr = data[0]                             \n",
    "    length = int(data[2]) - int(data[1]) +1   # Length of region for 3.\n",
    "    if chr not in dict:                       # If chromosome is not known, create\n",
    "        dict[chr] = {\"count\":0,\"len\":0}\n",
    "    dict[chr][\"count\"] += 1\n",
    "    dict[chr][\"len\"] += length  # Store total length for chromosome\n",
    "bed_file.close()\n",
    "\n",
    "#print regions per chromosome\n",
    "for key in dict.keys():\n",
    "    print(key,dict[key][\"count\"])\n"
   ]
  },
  {
   "cell_type": "code",
   "execution_count": 5,
   "id": "793d6468",
   "metadata": {},
   "outputs": [
    {
     "name": "stdout",
     "output_type": "stream",
     "text": [
      "1 6999598\n",
      "10 3780938\n",
      "11 3832246\n",
      "12 4221777\n",
      "13 2230764\n",
      "14 2625620\n",
      "15 2423168\n",
      "16 2423706\n",
      "17 3197296\n",
      "18 1716904\n",
      "19 1837378\n",
      "2 6761665\n",
      "20 1915007\n",
      "21 611323\n",
      "22 1108490\n",
      "3 5490545\n",
      "4 4182047\n",
      "5 4286245\n",
      "6 4424806\n",
      "7 4488525\n",
      "8 3133979\n",
      "9 2811612\n",
      "MT 325\n",
      "X 3059025\n",
      "Y 6712\n"
     ]
    }
   ],
   "source": [
    "# (3 Parse and print\n",
    "for key in dict.keys():\n",
    "    print(key,dict[key][\"len\"])\n",
    "    "
   ]
  },
  {
   "cell_type": "code",
   "execution_count": 6,
   "id": "f4569413",
   "metadata": {},
   "outputs": [
    {
     "name": "stdout",
     "output_type": "stream",
     "text": [
      "Chromosome  1  has  71906 region(s) in the bed file.\n",
      "The total length is 6999598  basepairs\n",
      "Chromosome  10  has  39957 region(s) in the bed file.\n",
      "The total length is 3780938  basepairs\n",
      "Chromosome  11  has  40677 region(s) in the bed file.\n",
      "The total length is 3832246  basepairs\n",
      "Chromosome  12  has  44469 region(s) in the bed file.\n",
      "The total length is 4221777  basepairs\n",
      "Chromosome  13  has  23109 region(s) in the bed file.\n",
      "The total length is 2230764  basepairs\n",
      "Chromosome  14  has  27399 region(s) in the bed file.\n",
      "The total length is 2625620  basepairs\n",
      "Chromosome  15  has  23975 region(s) in the bed file.\n",
      "The total length is 2423168  basepairs\n",
      "Chromosome  16  has  23597 region(s) in the bed file.\n",
      "The total length is 2423706  basepairs\n",
      "Chromosome  17  has  32679 region(s) in the bed file.\n",
      "The total length is 3197296  basepairs\n",
      "Chromosome  18  has  18883 region(s) in the bed file.\n",
      "The total length is 1716904  basepairs\n",
      "Chromosome  19  has  19482 region(s) in the bed file.\n",
      "The total length is 1837378  basepairs\n",
      "Chromosome  2  has  65512 region(s) in the bed file.\n",
      "The total length is 6761665  basepairs\n",
      "Chromosome  20  has  21129 region(s) in the bed file.\n",
      "The total length is 1915007  basepairs\n",
      "Chromosome  21  has  6894 region(s) in the bed file.\n",
      "The total length is 611323  basepairs\n",
      "Chromosome  22  has  12363 region(s) in the bed file.\n",
      "The total length is 1108490  basepairs\n",
      "Chromosome  3  has  55881 region(s) in the bed file.\n",
      "The total length is 5490545  basepairs\n",
      "Chromosome  4  has  44452 region(s) in the bed file.\n",
      "The total length is 4182047  basepairs\n",
      "Chromosome  5  has  42642 region(s) in the bed file.\n",
      "The total length is 4286245  basepairs\n",
      "Chromosome  6  has  47934 region(s) in the bed file.\n",
      "The total length is 4424806  basepairs\n",
      "Chromosome  7  has  49400 region(s) in the bed file.\n",
      "The total length is 4488525  basepairs\n",
      "Chromosome  8  has  34334 region(s) in the bed file.\n",
      "The total length is 3133979  basepairs\n",
      "Chromosome  9  has  29893 region(s) in the bed file.\n",
      "The total length is 2811612  basepairs\n",
      "Chromosome  MT  has  4 region(s) in the bed file.\n",
      "The total length is 325  basepairs\n",
      "Chromosome  X  has  29180 region(s) in the bed file.\n",
      "The total length is 3059025  basepairs\n",
      "Chromosome  Y  has  56 region(s) in the bed file.\n",
      "The total length is 6712  basepairs\n"
     ]
    }
   ],
   "source": [
    "# (4) Combine number of regions and size per chromosome in a report\n",
    "dict_keys = dict.keys()                      \n",
    "list(dict_keys).sort()                       \n",
    "for key in dict_keys:\n",
    "    print (\"Chromosome \", key,\" has \", dict[key]['count'] , \"region(s) in the bed file.\") \n",
    "    print (\"The total length is\", dict[key]['len'],\" basepairs\")\n"
   ]
  }
 ],
 "metadata": {
  "kernelspec": {
   "display_name": "Python 3 (ipykernel)",
   "language": "python",
   "name": "python3"
  },
  "language_info": {
   "codemirror_mode": {
    "name": "ipython",
    "version": 3
   },
   "file_extension": ".py",
   "mimetype": "text/x-python",
   "name": "python",
   "nbconvert_exporter": "python",
   "pygments_lexer": "ipython3",
   "version": "3.9.7"
  }
 },
 "nbformat": 4,
 "nbformat_minor": 5
}
