{
 "cells": [
  {
   "cell_type": "markdown",
   "id": "c7cf19dd",
   "metadata": {},
   "source": [
    "In this project I've made a piece of code to solve differential equations numerically. I wrote an algorithm to solve the differential equation 𝑑𝑦/𝑑𝑡=𝑘𝑦, because it has an easy solution of 𝑦=𝑐𝑒^(𝑘t).\n",
    "The code is made out of four parts;\n",
    "1) Defining the variables and matching values. In this case, y= initial value; t= current time; Δ t = timestep variable, a variable for parameter k\n",
    "2) Using equation 𝑦(𝑡+Δ𝑡)\n",
    "3) Determin Goal time and match code accordingly\n",
    "4) Compare written code to math module function analytical_solution"
   ]
  },
  {
   "cell_type": "code",
   "execution_count": 2,
   "id": "8a6ac41c",
   "metadata": {},
   "outputs": [],
   "source": [
    "# (1) Defining variables\n",
    "t=0\n",
    "y=1\n",
    "k=2\n",
    "dt=0.01\n"
   ]
  },
  {
   "cell_type": "code",
   "execution_count": 3,
   "id": "be6ddc5e",
   "metadata": {},
   "outputs": [],
   "source": [
    "# (2) Compute following y\n",
    "new_y=y+k*y*dt"
   ]
  },
  {
   "cell_type": "code",
   "execution_count": 5,
   "id": "66a57444",
   "metadata": {},
   "outputs": [
    {
     "name": "stdout",
     "output_type": "stream",
     "text": [
      "0.5000000000000002 2.691588029073605\n"
     ]
    }
   ],
   "source": [
    "# (3) Goal time of 0.5 seconds\n",
    "goal_time=0.5\n",
    "while t<goal_time:\n",
    "\n",
    "    new_y=y+k*y*dt\n",
    "\n",
    "    y=new_y\n",
    "    t+=dt\n",
    "print(t,y)"
   ]
  },
  {
   "cell_type": "code",
   "execution_count": 8,
   "id": "baecd494",
   "metadata": {},
   "outputs": [
    {
     "name": "stdout",
     "output_type": "stream",
     "text": [
      "2.7182818284590464 2.691588029073605\n"
     ]
    }
   ],
   "source": [
    "# (4) Compare results\n",
    "import math\n",
    "\n",
    "def analytical_solution(y_start,k,t):\n",
    "  \n",
    "    return(y_start*math.exp(k*t))\n",
    "print(analytical_solution(1,k,t),y)"
   ]
  }
 ],
 "metadata": {
  "kernelspec": {
   "display_name": "Python 3 (ipykernel)",
   "language": "python",
   "name": "python3"
  },
  "language_info": {
   "codemirror_mode": {
    "name": "ipython",
    "version": 3
   },
   "file_extension": ".py",
   "mimetype": "text/x-python",
   "name": "python",
   "nbconvert_exporter": "python",
   "pygments_lexer": "ipython3",
   "version": "3.9.7"
  }
 },
 "nbformat": 4,
 "nbformat_minor": 5
}
